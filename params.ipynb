{
 "cells": [
  {
   "cell_type": "code",
   "execution_count": 1,
   "id": "2d80cca8-44fa-4345-b56c-5e5f58955fa7",
   "metadata": {},
   "outputs": [],
   "source": [
    "import ppe_tools"
   ]
  },
  {
   "cell_type": "code",
   "execution_count": 2,
   "id": "3568b29b-2eca-45a8-9338-098c22608685",
   "metadata": {},
   "outputs": [],
   "source": [
    "#todo, show an example of how to create paramfiles from google spreadsheet"
   ]
  },
  {
   "cell_type": "code",
   "execution_count": null,
   "id": "717d354e-ecfa-49f9-8fdf-366e65c84d08",
   "metadata": {},
   "outputs": [],
   "source": []
  }
 ],
 "metadata": {
  "kernelspec": {
   "display_name": "Python [conda env:miniconda3-lens-py]",
   "language": "python",
   "name": "conda-env-miniconda3-lens-py-py"
  },
  "language_info": {
   "codemirror_mode": {
    "name": "ipython",
    "version": 3
   },
   "file_extension": ".py",
   "mimetype": "text/x-python",
   "name": "python",
   "nbconvert_exporter": "python",
   "pygments_lexer": "ipython3",
   "version": "3.7.9"
  }
 },
 "nbformat": 4,
 "nbformat_minor": 5
}
