{
 "cells": [
  {
   "cell_type": "code",
   "execution_count": 1,
   "id": "1a318faf-f427-47da-889f-d577fea42163",
   "metadata": {},
   "outputs": [],
   "source": [
    "import numpy as np\n",
    "import pandas as pd\n",
    "import xarray as xr\n",
    "import glob\n",
    "import matplotlib\n",
    "import matplotlib.pyplot as plt\n",
    "import cftime\n",
    "import dask\n",
    "from dask_jobqueue import PBSCluster\n",
    "from dask.distributed import Client\n",
    "import statsmodels.api as sm"
   ]
  },
  {
   "cell_type": "code",
   "execution_count": 2,
   "id": "7187399b-ea09-40d5-b5ea-2df757ac1c37",
   "metadata": {},
   "outputs": [],
   "source": [
    "def get_ensemble(files,data_vars,p=True):\n",
    "\n",
    "    def preprocess(ds):\n",
    "        return ds[data_vars]\n",
    "\n",
    "    #read in the dataset\n",
    "    ds = xr.open_mfdataset(files,combine='nested',concat_dim='ens',\n",
    "                           parallel=p,preprocess=preprocess)\n",
    "\n",
    "    #fix up time dimension\n",
    "    htape='h0'\n",
    "    #if htape=='h0' or htape=='h1':\n",
    "    #    ds['time'] = xr.cftime_range(str(2005),periods=len(ds.time),freq='MS') #fix time bug\n",
    "\n",
    "    #specify extra variables    \n",
    "    if htape=='h0':\n",
    "        extras     = ['grid1d_lat','grid1d_lon']\n",
    "    elif htape=='h1':\n",
    "        extras     = ['pfts1d_lat','pfts1d_lon','pfts1d_wtgcell','pfts1d_itype_veg']\n",
    "    \n",
    "    #add in some extra variables\n",
    "    ds0 = xr.open_dataset(files[0])\n",
    "    for extra in extras:\n",
    "        ds[extra]=ds0[extra]\n",
    "\n",
    "    return ds"
   ]
  },
  {
   "cell_type": "code",
   "execution_count": 3,
   "id": "53f265a9-c0a4-4052-a9d9-280261af0449",
   "metadata": {},
   "outputs": [],
   "source": [
    "# Setup your PBSCluster\n",
    "ncores=1\n",
    "nmem='25GB'\n",
    "cluster = PBSCluster(\n",
    "    cores=ncores, # The number of cores you want\n",
    "    memory=nmem, # Amount of memory\n",
    "    processes=1, # How many processes\n",
    "    queue='casper', # The type of queue to utilize (/glade/u/apps/dav/opt/usr/bin/execcasper)\n",
    "    local_directory='$TMPDIR', # Use your local directory\n",
    "    resource_spec='select=1:ncpus='+str(ncores)+':mem='+nmem, # Specify resources\n",
    "    project='P93300641', # Input your project ID here\n",
    "    walltime='03:00:00', # Amount of wall time\n",
    "    interface='ib0', # Interface to use\n",
    ")\n",
    "\n",
    "# Scale up\n",
    "cluster.scale(20)\n",
    "\n",
    "# Setup your client\n",
    "client = Client(cluster)"
   ]
  },
  {
   "cell_type": "code",
   "execution_count": 4,
   "id": "f3be8bac-5847-4e99-a0db-f4f12d3c066a",
   "metadata": {},
   "outputs": [],
   "source": [
    "#fetch the paraminfo\n",
    "csv = '/glade/scratch/djk2120/PPEn11/SP_bfb_test.csv' \n",
    "paramkey = pd.read_csv(csv)\n",
    "\n",
    "#fetch the sparsegrid landarea\n",
    "la_file = '/glade/scratch/djk2120/PPEn08/sparsegrid_landarea.nc'\n",
    "la = xr.open_dataset(la_file).landarea  #km2"
   ]
  },
  {
   "cell_type": "code",
   "execution_count": 24,
   "id": "02baf223-a08c-4cba-906a-330571789134",
   "metadata": {},
   "outputs": [],
   "source": [
    "kdir = '/glade/scratch/oleson/'\n",
    "keys  = []; params = []\n",
    "files = []\n",
    "for key,param in zip(paramkey.key,paramkey.param):\n",
    "    thisdir = kdir+'PPEn11_CTL2010SP_'+key+'/run/'\n",
    "    rfile   = glob.glob(thisdir+'*.clm2.r.*.nc')\n",
    "    if len(rfile)>0:\n",
    "        keys.append(key)\n",
    "        params.append(param)\n",
    "        h0 = glob.glob(thisdir+'*.clm2.h0.*.nc')\n",
    "        files.append(h0[0])\n",
    "params=np.array(params)"
   ]
  },
  {
   "cell_type": "code",
   "execution_count": 6,
   "id": "82e3b26a-f2ad-4bb1-bbd9-8f1511c151dc",
   "metadata": {},
   "outputs": [],
   "source": [
    "datavars = ['FPSN','EFLX_LH_TOT','FSA','TV','TSOI_10CM','SOILWATER_10CM']\n",
    "ds =get_ensemble(files,datavars)"
   ]
  },
  {
   "cell_type": "code",
   "execution_count": 26,
   "id": "cbfaf107-9924-45a5-b77c-abd25122bc95",
   "metadata": {},
   "outputs": [
    {
     "name": "stdout",
     "output_type": "stream",
     "text": [
      "FPSN 75\n",
      "EFLX_LH_TOT 75\n",
      "FSA 75\n",
      "TV 75\n",
      "TSOI_10CM 75\n",
      "SOILWATER_10CM 75\n"
     ]
    }
   ],
   "source": [
    "nens = len(ds.ens)\n",
    "bfb_all = np.zeros(nens)+1\n",
    "for v in datavars:\n",
    "\n",
    "    x0  = ds[v].sel(ens=0)\n",
    "    bfb_grid = (ds[v]==x0).values\n",
    "    \n",
    "    isnan = np.tile(np.isnan(x0),[nens,1,1])\n",
    "    bfb_grid[isnan]=1                       #ignore nans\n",
    "\n",
    "    bfb = bfb_grid.sum(axis=(1,2))==24*400            #all gridcells / all times must be BFB\n",
    "    print(v,bfb.sum())\n",
    "    \n",
    "    bfb_all = bfb_all*bfb\n",
    "bfb = bfb_all==1"
   ]
  },
  {
   "cell_type": "code",
   "execution_count": 27,
   "id": "fd01fa9a-2a9b-4950-b785-c8591f13638b",
   "metadata": {},
   "outputs": [
    {
     "data": {
      "text/plain": [
       "array(['default', 'grperc', 'br_mr', 'lmr_intercept_atkin',\n",
       "       'FUN_fracfixers', 'fun_cn_flex_a', 'fun_cn_flex_b',\n",
       "       'fun_cn_flex_c', 'kc_nonmyc', 'kn_nonmyc', 'akc_active',\n",
       "       'akn_active', 'ekc_active', 'ekn_active', 'stem_leaf',\n",
       "       'croot_stem', 'flivewd', 'frootcn', 'leaf_long', 'lwtop_ann',\n",
       "       'ndays_off', 'ndays_on', 'tau_cwd', 'tau_l1', 'tau_l2_l3',\n",
       "       'tau_s1', 'tau_s2', 'tau_s3', 'q10_mr', 'minpsi_hr', 'maxpsi_hr',\n",
       "       'rf_l1s1_bgc', 'rf_l2s1_bgc', 'rf_l3s2_bgc', 'rf_s2s1_bgc',\n",
       "       'rf_s2s3_bgc', 'rf_s3s1_bgc', 'cn_s3_bgc', 'decomp_depth_efolding',\n",
       "       'max_altdepth_cryoturbation', 'max_altmultiplier_cryoturb',\n",
       "       'cryoturb_diffusion_k', 'som_diffus', 'k_nitr_max_perday',\n",
       "       'denitrif_respiration_coefficient',\n",
       "       'denitrif_respiration_exponent',\n",
       "       'denitrif_nitrateconc_coefficient',\n",
       "       'denitrif_nitrateconc_exponent', 'r_mort', 'fsr_pft', 'fd_pft',\n",
       "       'prh30', 'ignition_efficiency', 'cc_dstem', 'cc_leaf', 'cc_lstem',\n",
       "       'cc_other', 'fm_droot', 'fm_leaf', 'fm_lroot', 'fm_lstem',\n",
       "       'fm_other', 'fm_root', 'KCN', 'LF', 'FR', 'Q10', 'CWD',\n",
       "       'perched_baseflow_scalar', 'xdrdt', 'frootcn_max', 'frootcn_min',\n",
       "       'leafcn_max', 'leafcn_min', 'fm_dstem'], dtype='<U32')"
      ]
     },
     "execution_count": 27,
     "metadata": {},
     "output_type": "execute_result"
    }
   ],
   "source": [
    "params[bfb]"
   ]
  },
  {
   "cell_type": "code",
   "execution_count": 28,
   "id": "3553bb44-82fd-497a-8361-709f524c71fb",
   "metadata": {},
   "outputs": [
    {
     "data": {
      "text/plain": [
       "array(['taulnir', 'taulvis', 'tausnir', 'tausvis', 'rholnir', 'rholvis',\n",
       "       'rhosnir', 'rhosvis', 'xl', 'displar', 'dleaf', 'z0mr', 'csoilc',\n",
       "       'cv', 'a_coef', 'a_exp', 'zlnd', 'zsno', 'd_max',\n",
       "       'frac_sat_soil_dsl_init', 'lai_dl', 'z_dl', 'zetamaxstable',\n",
       "       'wind_min', 'tkd_sand', 'tkd_clay', 'tkd_om', 'tkm_om', 'pd',\n",
       "       'csol_om', 'csol_sand', 'csol_clay', 'bsw_sf', 'hksat_sf',\n",
       "       'sucsat_sf', 'watsat_sf', 'baseflow_scalar',\n",
       "       'maximum_leaf_wetted_fraction', 'interception_fraction',\n",
       "       'aq_sp_yield_min', 'fff', 'liq_canopy_storage_scalar',\n",
       "       'snow_canopy_storage_scalar', 'e_ice', 'n_baseflow', 'n_melt_coef',\n",
       "       'accum_factor', 'eta0_vionnet', 'drift_gs', 'ssi', 'wimp',\n",
       "       'upplim_destruct_metamorph', 'wind_snowcompact_fact', 'rho_max',\n",
       "       'tau_ref', 'snowcan_unload_wind_fact', 'snowcan_unload_temp_fact',\n",
       "       'snw_rds_refrz', 'scvng_fct_mlt_sf', 'ceta', 'medlynslope',\n",
       "       'medlynintercept', 'fnps', 'theta_psii', 'theta_ip', 'theta_cj',\n",
       "       'kc25_coef', 'ko25_coef', 'cp25_yr2000', 'tpu25ratio', 'kp25ratio',\n",
       "       'lmrse', 'slatop', 'jmaxb0', 'jmaxb1', 'wc2wjb0',\n",
       "       'enzyme_turnover_daily', 'relhExp', 'minrelh', 'luna_theta_cj',\n",
       "       'kmax', 'krmax', 'psi50', 'ck', 'rootprof_beta', 'fbw', 'nstem',\n",
       "       'rstem', 'wood_density', 'froot_leaf', 'leafcn', 'vcmaxha',\n",
       "       'jmaxha', 'tpuha', 'lmrha', 'kcha', 'koha', 'cpha', 'vcmaxhd',\n",
       "       'jmaxhd', 'tpuhd', 'lmrhd', 'vcmaxse_sf', 'jmaxse_sf', 'tpuse_sf',\n",
       "       'jmax25top_sf', 'om_frac_sf', 'slopebeta', 'slopemax', 'pc', 'mu',\n",
       "       'C2_liq_Brun89', 'fnr', 'act25'], dtype='<U32')"
      ]
     },
     "execution_count": 28,
     "metadata": {},
     "output_type": "execute_result"
    }
   ],
   "source": [
    "params[~bfb]"
   ]
  },
  {
   "cell_type": "code",
   "execution_count": 29,
   "id": "3a9ce84a-35f7-44d1-a561-b0c81874617c",
   "metadata": {},
   "outputs": [
    {
     "data": {
      "text/plain": [
       "114"
      ]
     },
     "execution_count": 29,
     "metadata": {},
     "output_type": "execute_result"
    }
   ],
   "source": [
    "(~bfb).sum()"
   ]
  },
  {
   "cell_type": "markdown",
   "id": "19c221f8-ac04-4e38-84e7-88f3a0b12674",
   "metadata": {},
   "source": [
    "### reformat the BFB array to line up with the google spreadsheet"
   ]
  },
  {
   "cell_type": "code",
   "execution_count": 13,
   "id": "ce87c02f-477a-4037-b1c6-b7dec42a56ad",
   "metadata": {},
   "outputs": [
    {
     "name": "stderr",
     "output_type": "stream",
     "text": [
      "  % Total    % Received % Xferd  Average Speed   Time    Time     Time  Current\n",
      "                                 Dload  Upload   Total   Spent    Left  Speed\n",
      "100   426    0   426    0     0   2565      0 --:--:-- --:--:-- --:--:--  2581\n",
      "100 66431    0 66431    0     0   177k      0 --:--:-- --:--:-- --:--:--  177k\n"
     ]
    },
    {
     "data": {
      "text/plain": [
       "0"
      ]
     },
     "execution_count": 13,
     "metadata": {},
     "output_type": "execute_result"
    }
   ],
   "source": [
    "import os\n",
    "data_url = 'https://docs.google.com/spreadsheets/d/e/2PACX-1vQs413GtLXtHVDCqEPgAwn4BbDjoWmV7uFqOAWH4mgpxXoVfN6ijnJdhyRgLkV-n2eU-sSQush4CzYU/pub?output=csv'\n",
    "cmd = 'curl -L '+data_url+' > p.csv' # need to add -L option to force redirects\n",
    "os.system(cmd)"
   ]
  },
  {
   "cell_type": "code",
   "execution_count": 42,
   "id": "23681f11-b571-4542-85ce-98f6cad1a500",
   "metadata": {},
   "outputs": [],
   "source": [
    "df = pd.read_csv('p.csv')\n",
    "plist = []\n",
    "spvar = []"
   ]
  },
  {
   "cell_type": "code",
   "execution_count": 43,
   "id": "222d30ed-8902-476a-9943-b1671a8720f7",
   "metadata": {},
   "outputs": [
    {
     "name": "stderr",
     "output_type": "stream",
     "text": [
      "/glade/work/djk2120/miniconda3/envs/ppe-py/lib/python3.7/site-packages/ipykernel_launcher.py:2: FutureWarning: elementwise comparison failed; returning scalar instead, but in the future will perform elementwise comparison\n",
      "  \n"
     ]
    }
   ],
   "source": [
    "for p in df.name:\n",
    "    if p in params:\n",
    "        plist.append(p)\n",
    "        if p in params[bfb]:\n",
    "            spvar.append(0)\n",
    "        else:\n",
    "            spvar.append(1)\n",
    "    else:\n",
    "        plist.append('')\n",
    "        spvar.append('')"
   ]
  },
  {
   "cell_type": "code",
   "execution_count": 47,
   "id": "ed8b1a0e-7127-4adc-82dd-ce1de4551e49",
   "metadata": {},
   "outputs": [],
   "source": [
    "\n",
    "dfout = pd.DataFrame({'param':plist,'SP_active?':spvar})\n",
    "dfout.to_csv('sp_active.csv')"
   ]
  },
  {
   "cell_type": "markdown",
   "id": "b88aac3e-a725-4877-8acd-00411d16c064",
   "metadata": {},
   "source": [
    "### create an SP ensemble paramkey"
   ]
  },
  {
   "cell_type": "code",
   "execution_count": 93,
   "id": "91e7b3cd-c590-4186-bfbe-1fc707ee5864",
   "metadata": {},
   "outputs": [],
   "source": [
    "#need to look through the three existing paramkeys \n",
    "df1 = pd.read_csv('/glade/scratch/djk2120/PPEn11/surv.csv')\n",
    "df2 = pd.read_csv('/glade/scratch/djk2120/PPEn11/bgc_bfb.csv')\n",
    "df3 = pd.read_csv('/glade/scratch/djk2120/PPEn11/extras_for_sp.csv')\n",
    "dfs = [df1,df2,df3]"
   ]
  },
  {
   "cell_type": "code",
   "execution_count": 94,
   "id": "3a181f6c-2b3e-4352-8244-a8e9104917ef",
   "metadata": {},
   "outputs": [],
   "source": [
    "#first add the nonbfb bgc variables\n",
    "pvals=['default']; kvals=['OAAT0000']; mvals=['default']\n",
    "for p in params[~bfb]:\n",
    "    found=False\n",
    "    for df in dfs:\n",
    "        if p in df.param.values:\n",
    "            found=True\n",
    "            ix = df.param==p\n",
    "            d  = df[ix]\n",
    "            for k,p,m in zip(d.key,d.param,d.minmax):\n",
    "                kvals.append(k)\n",
    "                pvals.append(p)\n",
    "                mvals.append(m)\n",
    "            break\n",
    "    if not found:\n",
    "        print(p,' not found!')\n",
    "        "
   ]
  },
  {
   "cell_type": "code",
   "execution_count": 95,
   "id": "66974cbf-82c5-4fc0-837b-cf05e1571ac5",
   "metadata": {},
   "outputs": [],
   "source": [
    "#repeat for the extra SP variables\n",
    "for p in ['flnr','dbh','leaf_mr_vcm','fnitr']:\n",
    "    found=False\n",
    "    for df in dfs:\n",
    "        if p in df.param.values:\n",
    "            found=True\n",
    "            ix = df.param==p\n",
    "            d  = df[ix]\n",
    "            for k,p,m in zip(d.key,d.param,d.minmax):\n",
    "                kvals.append(k)\n",
    "                pvals.append(p)\n",
    "                mvals.append(m)\n",
    "            break\n",
    "    if not found:\n",
    "        print(p,' not found!')"
   ]
  },
  {
   "cell_type": "code",
   "execution_count": 99,
   "id": "355c73de-7e5c-4ab2-a2a9-4849fed45b7d",
   "metadata": {},
   "outputs": [
    {
     "data": {
      "text/plain": [
       "array([  0,   1,   2,   3,   4,   5,   6,   7,   8,   9,  10,  11,  12,\n",
       "        13,  14,  15,  16,  17,  18,  19,  20,  21,  22,  23,  24,  25,\n",
       "        26,  27,  28,  29,  30,  31,  32,  33,  34,  35,  36,  37,  38,\n",
       "        39,  40,  41,  42,  43,  44,  45,  46,  47,  48,  49,  50,  51,\n",
       "        52,  53,  54,  55,  56,  57,  58,  59,  60,  61,  62,  63,  64,\n",
       "        65,  68,  69,  70,  71,  72,  73,  74,  75,  76,  77,  78,  79,\n",
       "        80,  81,  82,  83,  84,  85,  86,  87,  88,  89,  90,  91,  92,\n",
       "        93,  94,  95,  96,  97,  98,  99, 100, 101, 102, 103, 104, 105,\n",
       "       106, 107, 108, 109, 110, 111, 112, 113, 115, 117, 118, 119, 120,\n",
       "       121, 122, 123, 124, 125, 126, 127, 128, 129, 215, 216, 217, 130,\n",
       "       131, 132, 133, 134, 136, 137, 138, 140, 141, 142, 144, 145, 146,\n",
       "       147, 148, 149, 150, 151, 152, 153, 154, 155, 156, 157, 158, 159,\n",
       "       160, 161, 162, 163, 164, 165, 166, 167, 168, 169, 170, 171, 172,\n",
       "       173, 174, 176, 177, 178, 180, 181, 182, 183, 184, 185, 186, 187,\n",
       "       188, 190, 191, 192, 193, 194, 196, 198, 200, 201, 202, 203, 204,\n",
       "       206, 207, 208, 209, 210, 211, 212, 213, 214, 205, 114, 139, 143,\n",
       "       116, 175, 179, 135, 199, 195, 197, 189,  67,  66, 218, 219, 220,\n",
       "       221, 222, 223, 224])"
      ]
     },
     "execution_count": 99,
     "metadata": {},
     "output_type": "execute_result"
    }
   ],
   "source": [
    "np.argsort(kvals)"
   ]
  },
  {
   "cell_type": "code",
   "execution_count": 100,
   "id": "cf8ad3ac-e40d-49c5-9549-35227dcd8e16",
   "metadata": {},
   "outputs": [],
   "source": [
    "#sort by key\n",
    "ix = np.argsort(kvals)\n",
    "k = np.array(kvals)[ix]\n",
    "p = np.array(pvals)[ix]\n",
    "m = np.array(mvals)[ix]"
   ]
  },
  {
   "cell_type": "code",
   "execution_count": 101,
   "id": "7cf7f5a8-2cfa-4a9f-8fdb-bf8013832c23",
   "metadata": {},
   "outputs": [],
   "source": [
    "dfout = pd.DataFrame({'key':k,'param':p,'minmax':m})\n",
    "dfout.to_csv('/glade/scratch/djk2120/PPEn11/SP_ensemble.csv',index=False)"
   ]
  },
  {
   "cell_type": "code",
   "execution_count": null,
   "id": "9a8d1688-8714-405a-814a-09b3cd33131b",
   "metadata": {},
   "outputs": [],
   "source": []
  }
 ],
 "metadata": {
  "kernelspec": {
   "display_name": "Python [conda env:miniconda3-ppe-py]",
   "language": "python",
   "name": "conda-env-miniconda3-ppe-py-py"
  },
  "language_info": {
   "codemirror_mode": {
    "name": "ipython",
    "version": 3
   },
   "file_extension": ".py",
   "mimetype": "text/x-python",
   "name": "python",
   "nbconvert_exporter": "python",
   "pygments_lexer": "ipython3",
   "version": "3.7.10"
  }
 },
 "nbformat": 4,
 "nbformat_minor": 5
}
