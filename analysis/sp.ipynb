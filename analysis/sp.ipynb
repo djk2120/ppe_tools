{
 "cells": [
  {
   "cell_type": "code",
   "execution_count": 1,
   "id": "d5d1eacf-f4ab-473a-a132-26ccf39aec6e",
   "metadata": {},
   "outputs": [],
   "source": [
    "import numpy as np\n",
    "import pandas as pd\n",
    "import xarray as xr\n",
    "import glob\n",
    "import matplotlib\n",
    "import matplotlib.pyplot as plt"
   ]
  },
  {
   "cell_type": "code",
   "execution_count": 2,
   "id": "ade99a07-1ae3-4ac7-9e52-ef87ec1b3263",
   "metadata": {},
   "outputs": [],
   "source": [
    "### import some analysis functions we wrote for this project\n",
    "import sys ; sys.path.append(\"..\")\n",
    "from ppe_analysis.analysis import *"
   ]
  },
  {
   "cell_type": "code",
   "execution_count": 3,
   "id": "ad533cbe-be7a-41db-b814-d835936a8c08",
   "metadata": {},
   "outputs": [],
   "source": [
    "# Setup your PBSCluster\n",
    "import dask\n",
    "from dask_jobqueue import PBSCluster\n",
    "from dask.distributed import Client\n",
    "ncores=1\n",
    "nmem='25GB'\n",
    "cluster = PBSCluster(\n",
    "    cores=ncores, # The number of cores you want\n",
    "    memory=nmem, # Amount of memory\n",
    "    processes=1, # How many processes\n",
    "    queue='casper', # The type of queue to utilize (/glade/u/apps/dav/opt/usr/bin/execcasper)\n",
    "    local_directory='$TMPDIR', # Use your local directory\n",
    "    resource_spec='select=1:ncpus='+str(ncores)+':mem='+nmem, # Specify resources\n",
    "    project='P93300641', # Input your project ID here\n",
    "    walltime='02:00:00', # Amount of wall time\n",
    "    interface='ib0', # Interface to use\n",
    ")\n",
    "\n",
    "# Scale up\n",
    "cluster.scale(30)\n",
    "\n",
    "# Setup your client\n",
    "client = Client(cluster)"
   ]
  },
  {
   "cell_type": "code",
   "execution_count": 4,
   "id": "4d16b0dd-5cd1-43ee-8d6f-a6b41e3ce466",
   "metadata": {},
   "outputs": [
    {
     "data": {
      "application/vnd.jupyter.widget-view+json": {
       "model_id": "d74970786cac4550b5b6dd3ac69c33f3",
       "version_major": 2,
       "version_minor": 0
      },
      "text/plain": [
       "Tab(children=(HTML(value='<div class=\"jp-RenderedHTMLCommon jp-RenderedHTML jp-mod-trusted jp-OutputArea-outpu…"
      ]
     },
     "metadata": {},
     "output_type": "display_data"
    }
   ],
   "source": [
    "client.cluster"
   ]
  },
  {
   "cell_type": "code",
   "execution_count": 5,
   "id": "19d0dbd6-ee7f-46fc-a738-bd0d28fc8d7c",
   "metadata": {},
   "outputs": [],
   "source": [
    "csv = '/glade/scratch/djk2120/PPEn11/SP_ensemble.csv'\n",
    "ds0,la,attrs,paramkey,keys = ppe_init(csv=csv)"
   ]
  },
  {
   "cell_type": "markdown",
   "id": "662eb71b-76c5-4521-b71f-3087481e91c7",
   "metadata": {},
   "source": [
    "### calc via get_ensemble"
   ]
  },
  {
   "cell_type": "code",
   "execution_count": 6,
   "id": "10c46b55-28a7-43df-b060-06349784b21d",
   "metadata": {},
   "outputs": [],
   "source": [
    "files = get_files('CTL2010SP','h0',keys)\n",
    "ds = get_ensemble(files,['FPSN'],keys,paramkey)"
   ]
  },
  {
   "cell_type": "code",
   "execution_count": 7,
   "id": "247ed494-0d1b-4426-8483-4a94a32e35df",
   "metadata": {},
   "outputs": [],
   "source": [
    "x=1/la.sum()*(la*ds.FPSN).mean(dim='time').sum(dim='gridcell').compute()"
   ]
  },
  {
   "cell_type": "code",
   "execution_count": 8,
   "id": "17bde97a-30a3-43ca-a743-f521cd9f32a6",
   "metadata": {},
   "outputs": [
    {
     "data": {
      "text/plain": [
       "[<matplotlib.lines.Line2D at 0x2b19a2ead550>]"
      ]
     },
     "execution_count": 8,
     "metadata": {},
     "output_type": "execute_result"
    },
    {
     "data": {
      "image/png": "[encoded data removed]",
      "text/plain": [
       "<Figure size 432x288 with 1 Axes>"
      ]
     },
     "metadata": {
      "needs_background": "light"
     },
     "output_type": "display_data"
    }
   ],
   "source": [
    "x.plot.line('.')"
   ]
  },
  {
   "cell_type": "markdown",
   "id": "7f661375-f821-436f-8006-741dc70bef20",
   "metadata": {},
   "source": [
    "### via calc_mean"
   ]
  },
  {
   "cell_type": "code",
   "execution_count": 10,
   "id": "a2f9149e-090f-4f25-8d2e-ce7697f1e5d5",
   "metadata": {},
   "outputs": [],
   "source": [
    "da,iav = calc_mean('CTL2010SP','FPSN',csv=csv)"
   ]
  },
  {
   "cell_type": "code",
   "execution_count": null,
   "id": "5f8918bc-63f6-45d0-809e-cab5e0bd57c4",
   "metadata": {},
   "outputs": [],
   "source": []
  }
 ],
 "metadata": {
  "kernelspec": {
   "display_name": "Python [conda env:miniconda3-ppe-py]",
   "language": "python",
   "name": "conda-env-miniconda3-ppe-py-py"
  },
  "language_info": {
   "codemirror_mode": {
    "name": "ipython",
    "version": 3
   },
   "file_extension": ".py",
   "mimetype": "text/x-python",
   "name": "python",
   "nbconvert_exporter": "python",
   "pygments_lexer": "ipython3",
   "version": "3.7.10"
  }
 },
 "nbformat": 4,
 "nbformat_minor": 5
}
